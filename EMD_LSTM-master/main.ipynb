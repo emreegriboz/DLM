{
 "cells": [
  {
   "cell_type": "code",
   "execution_count": 3,
   "metadata": {},
   "outputs": [
    {
     "data": {
      "text/html": [
       "        <script type=\"text/javascript\">\n",
       "        window.PlotlyConfig = {MathJaxConfig: 'local'};\n",
       "        if (window.MathJax) {MathJax.Hub.Config({SVG: {font: \"STIX-Web\"}});}\n",
       "        if (typeof require !== 'undefined') {\n",
       "        require.undef(\"plotly\");\n",
       "        requirejs.config({\n",
       "            paths: {\n",
       "                'plotly': ['https://cdn.plot.ly/plotly-latest.min']\n",
       "            }\n",
       "        });\n",
       "        require(['plotly'], function(Plotly) {\n",
       "            window._Plotly = Plotly;\n",
       "        });\n",
       "        }\n",
       "        </script>\n",
       "        "
      ]
     },
     "metadata": {},
     "output_type": "display_data"
    }
   ],
   "source": [
    "import os\n",
    "import json\n",
    "import time\n",
    "import datetime as dt\n",
    "import math\n",
    "import import_ipynb\n",
    "from data_processing import DataLoader\n",
    "from build_model import Model\n",
    "import pandas as pd\n",
    "import numpy as np\n",
    "import keras\n",
    "import tensorflow\n",
    "# from plotly.offline import iplot\n",
    "import plotly as py\n",
    "import plotly.graph_objs as go\n",
    "py.offline.init_notebook_mode(connected=True)"
   ]
  },
  {
   "cell_type": "code",
   "execution_count": null,
   "metadata": {},
   "outputs": [],
   "source": [
    "def plot_results(predicted_data, true_data,pre_time):\n",
    "    pre_time = pd.to_datetime(pre_time)\n",
    "\n",
    "    trace1 = go.Scatter(x=pre_time,\n",
    "                        y=true_data,\n",
    "                        mode='lines',\n",
    "                        name='True',\n",
    "                        hoverinfo='name',\n",
    "                        line=dict(\n",
    "                                    shape='spline'\n",
    "                                 )\n",
    "                        )\n",
    "    \n",
    "    trace2 = go.Scatter(x=pre_time,\n",
    "                        y=predicted_data,\n",
    "                        mode='lines',\n",
    "                        name='Prediction',\n",
    "                        hoverinfo='name',\n",
    "                        line=dict(\n",
    "                                    shape='spline'\n",
    "                                 )\n",
    "                        )\n",
    "    data = [trace1, trace2]\n",
    "    layout = go.Layout(title = 'Prediction & True',\n",
    "#                    yaxis = dict(title = '%'),\n",
    "                   xaxis = dict(title = 'timestamp')\n",
    "                  )\n",
    "    fig = go.Figure(data=data, layout=layout)\n",
    "    py.offline.plot(fig)\n",
    "    "
   ]
  },
  {
   "cell_type": "code",
   "execution_count": null,
   "metadata": {},
   "outputs": [],
   "source": [
    "configs = json.load(open('config.json', 'r'))\n",
    "if not os.path.exists(configs['model']['save_dir']): os.makedirs(configs['model']['save_dir'])\n",
    "print('import dataset:', configs['data']['filename'])\n",
    "data = DataLoader(\n",
    "    filename=os.path.join('data', configs['data']['filename']),\n",
    "    split1=configs['data']['train_test_split1'],\n",
    "    split2=configs['data']['train_test_split2'],\n",
    "    cols=configs['data']['columns'],\n",
    "    pre_len=24,\n",
    "    input_timesteps=configs['model']['layers'][0]['input_timesteps'],\n",
    "    seq_len = configs['data']['sequence_length']\n",
    ")\n",
    "configs['model']['layers'][0]['input_timesteps']\n",
    "train_x, train_y = data.get_train_data()\n",
    "train_x.shape\n",
    "val_x,val_y = data.get_val_data()\n",
    "# train_x, train_y,val_x,val_y = data.get_train_val_data()\n",
    "# train_x.shape"
   ]
  },
  {
   "cell_type": "code",
   "execution_count": null,
   "metadata": {},
   "outputs": [],
   "source": [
    "x_test, y_test = data.get_test_data()\n",
    "pre_time = data.get_pre_time()\n",
    "\n",
    "steps_per_epoch = math.ceil((len(train_x) - configs['data']['sequence_length']) / \n",
    "                            configs['training']['batch_size'])\n",
    "save_dir = configs['model']['save_dir']\n",
    "# pre_time\n",
    "y_test.shape"
   ]
  },
  {
   "cell_type": "code",
   "execution_count": null,
   "metadata": {},
   "outputs": [],
   "source": [
    "score = {}\n",
    "models_dir = []\n",
    "for i in range(1):\n",
    "    print('Starting training %s Model'%(i+1))\n",
    "    model = Model()\n",
    "    model.build_model(configs)\n",
    "    \n",
    "    time_now = dt.datetime.now().strftime('%Y%m%d-%H%M%S')\n",
    "    save_dir = configs['model']['save_dir']\n",
    "    save_dir = os.path.join(save_dir, '%s-e%s'%(time_now,str(i)))\n",
    "    models_dir.append(save_dir)\n",
    "    os.makedirs(save_dir)\n",
    "    \n",
    "    save_fname = os.path.join(save_dir, 'e%s.h5'%(str(i)))\n",
    "    log_fname = save_dir\n",
    "    \n",
    "    model.model_to_json(save_dir)\n",
    "    \n",
    "    fname = os.path.join(save_dir, 'model_information.json')\n",
    "    \n",
    "    model.train_generator(\n",
    "            data_gen=data.training_batch_generator(\n",
    "            batch_size=configs['training']['batch_size']\n",
    "        ),\n",
    "            val_gen=data.val_batch_generator(\n",
    "            batch_size=configs['training']['batch_size']\n",
    "        ),\n",
    "        epochs=configs['training']['epochs'],\n",
    "        batch_size=configs['training']['batch_size'],\n",
    "        steps_per_epoch=steps_per_epoch,\n",
    "        log_fname=log_fname,\n",
    "        save_fname=save_fname\n",
    "    )\n",
    "    \n",
    "    score_ = model.evaluate(val_x, val_y)\n",
    "    print(\"loss:\", score_)\n",
    "    score[save_fname] = score_\n",
    "    \n",
    "    \n",
    "    with open(fname, \"w\") as to:\n",
    "        with open(\"./config.json\",'r') as original:\n",
    "            m = json.loads(original.read())\n",
    "            m['loss']=score_\n",
    "            json_str=json.dumps(m)\n",
    "            to.write(json_str)\n",
    "            \n",
    "    print('[Model] Store model_information at %s' % fname)\n",
    "    \n",
    "filename_best = min(score,key=score.get)\n",
    "print(filename_best)\n",
    "model.load_model(filename_best)\n",
    "predictions = model.predict_point_by_point(x_test)"
   ]
  },
  {
   "cell_type": "code",
   "execution_count": null,
   "metadata": {},
   "outputs": [],
   "source": [
    "plot_results(predicted_data=predictions, \n",
    "             true_data=np.reshape(y_test, (y_test.size,)),\n",
    "             pre_time=np.reshape(pre_time,(pre_time.size,)))"
   ]
  }
 ],
 "metadata": {
  "kernelspec": {
   "display_name": "Python 3",
   "language": "python",
   "name": "python3"
  },
  "language_info": {
   "codemirror_mode": {
    "name": "ipython",
    "version": 3
   },
   "file_extension": ".py",
   "mimetype": "text/x-python",
   "name": "python",
   "nbconvert_exporter": "python",
   "pygments_lexer": "ipython3",
   "version": "3.7.0"
  }
 },
 "nbformat": 4,
 "nbformat_minor": 2
}
