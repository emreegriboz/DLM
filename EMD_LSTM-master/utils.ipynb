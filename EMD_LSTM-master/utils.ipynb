{
 "cells": [
  {
   "cell_type": "code",
   "execution_count": null,
   "metadata": {},
   "outputs": [],
   "source": [
    "import datetime as dt\n",
    "\n",
    "class Timer():\n",
    "    def __init__(self):\n",
    "        self.start_dt = None\n",
    "        \n",
    "    def start(self):\n",
    "        self.start_dt = dt.datetime.now()\n",
    "        \n",
    "    def stop(self):\n",
    "        end_dt = dt.datetime.now()\n",
    "        print('Time taken: %s' % (end_dt - self.start_dt))"
   ]
  }
 ],
 "metadata": {
  "kernelspec": {
   "display_name": "Python 3",
   "language": "python",
   "name": "python3"
  },
  "language_info": {
   "codemirror_mode": {
    "name": "ipython",
    "version": 3
   },
   "file_extension": ".py",
   "mimetype": "text/x-python",
   "name": "python",
   "nbconvert_exporter": "python",
   "pygments_lexer": "ipython3",
   "version": "3.7.0"
  }
 },
 "nbformat": 4,
 "nbformat_minor": 2
}
